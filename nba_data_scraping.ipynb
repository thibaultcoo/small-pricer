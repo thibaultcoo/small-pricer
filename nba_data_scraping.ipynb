{
  "nbformat": 4,
  "nbformat_minor": 0,
  "metadata": {
    "colab": {
      "name": "nba_data_scraping.ipynb",
      "provenance": [],
      "authorship_tag": "ABX9TyPMa5vzj728AM60QAZIEexw",
      "include_colab_link": true
    },
    "kernelspec": {
      "name": "python3",
      "display_name": "Python 3"
    },
    "language_info": {
      "name": "python"
    }
  },
  "cells": [
    {
      "cell_type": "markdown",
      "metadata": {
        "id": "view-in-github",
        "colab_type": "text"
      },
      "source": [
        "<a href=\"https://colab.research.google.com/github/thibaultcoo/small-pricer/blob/main/nba_data_scraping.ipynb\" target=\"_parent\"><img src=\"https://colab.research.google.com/assets/colab-badge.svg\" alt=\"Open In Colab\"/></a>"
      ]
    },
    {
      "cell_type": "code",
      "execution_count": 5,
      "metadata": {
        "id": "969bqtnS7tZ6"
      },
      "outputs": [],
      "source": [
        "# intro to scraping basketball reference data\n",
        "\n",
        "import numpy as np\n",
        "from urllib.request import urlopen\n",
        "from bs4 import BeautifulSoup\n",
        "import pandas as pd\n",
        "\n",
        "url = \"https://www.basketball-reference.com/playoffs/\"\n",
        "html = urlopen(url)\n",
        "soup = BeautifulSoup(html, features=\"lxml\")"
      ]
    },
    {
      "cell_type": "code",
      "source": [
        "# we extract the headers into a list\n",
        "\n",
        "headers = [th.getText() for th in soup.findAll('tr', limit=2)[1].findAll('th')]"
      ],
      "metadata": {
        "id": "887LDeBE1ZLS"
      },
      "execution_count": 9,
      "outputs": []
    },
    {
      "cell_type": "code",
      "source": [
        "rows = soup.findAll('tr')[2:]\n",
        "rows_data = [[td.getText() for td in rows[i].findAll('td')] for i in range(len(rows))]\n",
        "\n",
        "rows_data.pop(20)\n",
        "rows_data = rows_data[0:38] # we only use data for the last 39 seasons"
      ],
      "metadata": {
        "id": "RavyMgNS96ZE"
      },
      "execution_count": 12,
      "outputs": []
    },
    {
      "cell_type": "code",
      "source": [
        "last_year = 2020\n",
        "for i in range(0, len(rows_data)):\n",
        "  rows_data[i].insert(0, last_year)\n",
        "  last_year -= 1"
      ],
      "metadata": {
        "id": "iulTlGhw-Sps"
      },
      "execution_count": 13,
      "outputs": []
    },
    {
      "cell_type": "code",
      "source": [
        "nba_finals = pd.DataFrame(rows_data, columns = headers)\n",
        "nba_finals.to_csv(\"nba_finals_history.csv\", index = False)"
      ],
      "metadata": {
        "id": "kAE2a7Or_ExU"
      },
      "execution_count": 14,
      "outputs": []
    }
  ]
}